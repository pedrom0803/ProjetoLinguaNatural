{
 "cells": [
  {
   "cell_type": "markdown",
   "metadata": {},
   "source": [
    "# File para meter os dados da colecao onde a stora foi buscar os de treino"
   ]
  },
  {
   "cell_type": "markdown",
   "metadata": {},
   "source": [
    "### Em principio não há duplicados com os do \"train.txt\" que a stora deu"
   ]
  },
  {
   "cell_type": "code",
   "execution_count": 27,
   "metadata": {},
   "outputs": [],
   "source": [
    "import pandas as pd"
   ]
  },
  {
   "cell_type": "code",
   "execution_count": 28,
   "metadata": {},
   "outputs": [
    {
     "name": "stdout",
     "output_type": "stream",
     "text": [
      "Colunas: Index(['Release Year', 'Title', 'Origin/Ethnicity', 'Director', 'Cast',\n",
      "       'Genre', 'Wiki Page', 'Plot'],\n",
      "      dtype='object')\n"
     ]
    }
   ],
   "source": [
    "# Vetor com os gêneros permitidos\n",
    "allowed_genres = [\"drama\", \"comedy\", \"horror\", \"action\", \"romance\", \"western\", \"animation\", \"crime\", \"sci-fi\"]\n",
    "\n",
    "# Ler o arquivo CSV\n",
    "df = pd.read_csv('/Users/pedromiguel/Downloads/wiki_movie_plots_deduped.csv')\n",
    "\n",
    "print(\"Colunas:\", df.columns)"
   ]
  },
  {
   "cell_type": "code",
   "execution_count": 29,
   "metadata": {},
   "outputs": [
    {
     "name": "stdout",
     "output_type": "stream",
     "text": [
      "15449\n"
     ]
    }
   ],
   "source": [
    "# Selecionar as colunas \"Title\", \"Genre\" e \"Plot\"\n",
    "selected_columns = df[['Title', 'Origin/Ethnicity','Genre','Director', 'Plot']]\n",
    "\n",
    "# Filtrar os valores da coluna \"Genre\" que estão no vetor 'allowed_genres'\n",
    "filtered_data = selected_columns[selected_columns['Genre'].isin(allowed_genres)]\n",
    "\n",
    "# Converter as colunas filtradas em uma lista de listas (vetor)\n",
    "data_list = filtered_data.values.tolist()\n",
    "print(len(data_list))"
   ]
  },
  {
   "cell_type": "code",
   "execution_count": 30,
   "metadata": {},
   "outputs": [
    {
     "name": "stdout",
     "output_type": "stream",
     "text": [
      "8041\n"
     ]
    }
   ],
   "source": [
    "dados_filmes = []\n",
    "with open(\"./data/train.txt\", 'r', encoding='utf-8') as file:\n",
    "    # Lendo o arquivo linha por linha\n",
    "    for linha in file:\n",
    "        # Remover espaços em branco no início e fim (incluindo quebras de linha)\n",
    "        linha = linha.strip()\n",
    "        # Separar os dados usando o tab ('\\t') como delimitador\n",
    "        filme = linha.split('\\t')\n",
    "        # Adicionar a lista de filmes ao array 2D\n",
    "        dados_filmes.append(filme)\n",
    "        \n",
    "print(len(dados_filmes))"
   ]
  },
  {
   "cell_type": "code",
   "execution_count": 33,
   "metadata": {},
   "outputs": [
    {
     "name": "stdout",
     "output_type": "stream",
     "text": [
      "7853\n"
     ]
    }
   ],
   "source": [
    "# Criar um novo array para armazenar dados não duplicados\n",
    "novo_array = []\n",
    "\n",
    "# Adicionar os dados do CSV ao novo_array se não existirem em dados_filmes\n",
    "for row in data_list:\n",
    "    title, origem, genre, diretor,plot = row[0], row[1], row[2], row[3], row[4]\n",
    "    \n",
    "    # Verificar se o título, gênero e plot já estão no array 'dados_filmes'\n",
    "    if not any(filme[0] == title and filme[2] == genre and filme[1] == origem and filme[3]== diretor for filme in dados_filmes):\n",
    "        novo_array.append([title, genre, plot])  # Adicionar ao novo array se não for duplicado\n",
    "\n",
    "# Exibir o novo array sem duplicatas\n",
    "print(len(novo_array))"
   ]
  },
  {
   "cell_type": "code",
   "execution_count": 34,
   "metadata": {},
   "outputs": [],
   "source": [
    "# Caminho do arquivo de saída\n",
    "output_file = './data/our_data.txt'\n",
    "\n",
    "# Abrir o arquivo para escrita\n",
    "with open(output_file, 'w', encoding='utf-8') as file:\n",
    "    for row in novo_array:\n",
    "        # Escrever cada linha no arquivo, separando as colunas por '\\t'\n",
    "        file.write('\\t'.join(row) + '\\n')"
   ]
  }
 ],
 "metadata": {
  "kernelspec": {
   "display_name": "base",
   "language": "python",
   "name": "python3"
  },
  "language_info": {
   "codemirror_mode": {
    "name": "ipython",
    "version": 3
   },
   "file_extension": ".py",
   "mimetype": "text/x-python",
   "name": "python",
   "nbconvert_exporter": "python",
   "pygments_lexer": "ipython3",
   "version": "3.12.4"
  }
 },
 "nbformat": 4,
 "nbformat_minor": 2
}
