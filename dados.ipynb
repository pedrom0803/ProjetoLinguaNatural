{
 "cells": [
  {
   "cell_type": "markdown",
   "metadata": {},
   "source": [
    "# File para meter os dados da colecao onde a stora foi buscar os de treino"
   ]
  },
  {
   "cell_type": "code",
   "execution_count": 27,
   "metadata": {},
   "outputs": [],
   "source": [
    "import pandas as pd"
   ]
  },
  {
   "cell_type": "code",
   "execution_count": 28,
   "metadata": {},
   "outputs": [
    {
     "name": "stdout",
     "output_type": "stream",
     "text": [
      "Colunas: Index(['Release Year', 'Title', 'Origin/Ethnicity', 'Director', 'Cast',\n",
      "       'Genre', 'Wiki Page', 'Plot'],\n",
      "      dtype='object')\n"
     ]
    }
   ],
   "source": [
    "# Vetor com os gêneros permitidos\n",
    "allowed_genres = [\"drama\", \"comedy\", \"horror\", \"action\", \"romance\", \"western\", \"animation\", \"crime\", \"sci-fi\"]\n",
    "\n",
    "# Ler o arquivo CSV\n",
    "df = pd.read_csv('/Users/pedromiguel/Downloads/wiki_movie_plots_deduped.csv')\n",
    "\n",
    "print(\"Colunas:\", df.columns)"
   ]
  },
  {
   "cell_type": "code",
   "execution_count": 29,
   "metadata": {},
   "outputs": [
    {
     "name": "stdout",
     "output_type": "stream",
     "text": [
      "15449\n"
     ]
    }
   ],
   "source": [
    "# Selecionar as colunas \"Title\", \"Genre\" e \"Plot\"\n",
    "selected_columns = df[['Title', 'Origin/Ethnicity','Genre','Director', 'Plot']]\n",
    "\n",
    "# Filtrar os valores da coluna \"Genre\" que estão no vetor 'allowed_genres'\n",
    "filtered_data = selected_columns[selected_columns['Genre'].isin(allowed_genres)]\n",
    "\n",
    "# Converter as colunas filtradas em uma lista de listas (vetor)\n",
    "data_list = filtered_data.values.tolist()\n",
    "print(len(data_list))"
   ]
  },
  {
   "cell_type": "code",
   "execution_count": 30,
   "metadata": {},
   "outputs": [
    {
     "name": "stdout",
     "output_type": "stream",
     "text": [
      "8041\n"
     ]
    }
   ],
   "source": [
    "dados_filmes = []\n",
    "with open(\"./data/train.txt\", 'r', encoding='utf-8') as file:\n",
    "    # Lendo o arquivo linha por linha\n",
    "    for linha in file:\n",
    "        # Remover espaços em branco no início e fim (incluindo quebras de linha)\n",
    "        linha = linha.strip()\n",
    "        # Separar os dados usando o tab ('\\t') como delimitador\n",
    "        filme = linha.split('\\t')\n",
    "        # Adicionar a lista de filmes ao array 2D\n",
    "        dados_filmes.append(filme)\n",
    "        \n",
    "print(len(dados_filmes))"
   ]
  },
  {
   "cell_type": "code",
   "execution_count": 33,
   "metadata": {},
   "outputs": [
    {
     "name": "stdout",
     "output_type": "stream",
     "text": [
      "7853\n"
     ]
    }
   ],
   "source": [
    "# Criar um novo array para armazenar dados não duplicados\n",
    