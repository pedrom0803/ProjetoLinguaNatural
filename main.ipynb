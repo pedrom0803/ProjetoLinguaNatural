{
 "cells": [
  {
   "cell_type": "code",
   "execution_count": 1,
   "metadata": {},
   "outputs": [],
   "source": [
    "import os\n",
    "from nn import SimpleFFNN\n",
    "from train import Train\n",
    "from preProcessing import PreProcessing\n",
    "import numpy as np\n",
    "from testModel import TestModel"
   ]
  },
  {
   "cell_type": "code",
   "execution_count": 2,
   "metadata": {},
   "outputs": [],
   "source": [
    "def split_array(data: np.ndarray, train_size: float = 0.8):\n",
    "    \"\"\"\n",
    "    Divide um array 2D em dois arrays: um com train_size dos dados e outro com o restante.\n",
    "    \n",
    "    :param data: O array 2D a ser dividido.\n",
    "    :param train_size: A proporção de dados a serem usados para o primeiro array (default é 0.8).\n",
    "    :return: Dois arrays 2D, um com os dados de treinamento e outro com os dados de teste.\n",
    "    \"\"\"\n",
    "    # Calcula o índice para a divisão\n",
    "    split_index = int(len(data) * train_size)\n",
    "    \n",
    "    # Embaralha os dados\n",
    "    np.random.shuffle(data)\n",
    "    \n",
    "    # Divide o array\n",
    "    train_data = data[:split_index]\n",
    "    test_data = data[split_index:]\n",
    "    \n",
    "    return train_data, test_data"
   ]
  },
  {
   "cell_type": "code",
   "execution_count": 3,
   "metadata": {},
   "outputs": [],
   "source": [
    "genres = ['drama', 'comedy', 'horror', 'action', 'romance', 'western', 'animation', 'crime', 'sci-fi']\n",
    "    \n",
    "#file onde já está o modelo treinado\n",
    "nnFile=\"ficheiro_com_novo_modelo\"\n",
    "model=None\n",
    "\n",
    "nodes_outuput=[len(genres)]\n",
    "\n",
    "#limpesa de ficheiro de treino\n",
    "data=\"train\""
   ]
  },
  {
   "cell_type": "code",
   "execution_count": 4,
   "metadata": {},
   "outputs": [
    {
     "name": "stdout",
     "output_type": "stream",
     "text": [
      "\u001b[34mPre Processing the data\n",
      "\u001b[0m\n"
     ]
    }
   ],
   "source": [
    "print(\"\\033[34mPre Processing the data\\n\\033[0m\")\n",
    "pp=PreProcessing(data+\".txt\")\n",
    "clean_data=pp.returnCleanText()\n",
    "print(\"\\033[32mPre Processing Completed!\\n\\033[0m\")"
   ]
  },
  {
   "cell_type": "code",
   "execution_count": 5,
   "metadata": {},
   "outputs": [
    {
     "name": "stdout",
     "output_type": "stream",
     "text": [
      "\u001b[34mLoading Model\n",
      "\u001b[0m\n",
      "\u001b[32mLoading Completed!\n",
      "\u001b[0m\n"
     ]
    }
   ],
   "source": [
    "data_to_train, data_to_test = split_array(clean_data)\n",
    "\n",
    "# Carregar o modelo se ele já existir\n",
    "if os.path.isfile(nnFile+\".pkl\"):\n",
    "    print(\"\\033[34mLoading Model\\n\\033[0m\")\n",
    "    \n",
    "    model=SimpleFFNN.load_model(nnFile+\".pkl\")\n",
    "    \n",
    "    print(\"\\033[32mLoading Completed!\\n\\033[0m\")\n",
    "# Se não existir, cria e treina um novo modelo   \n",
    "else:\n",
    "    print(\"\\033[34mCreating a new Model\\n\\033[0m\")\n",
    "    \n",
    "    newNNFile=\"ficheiro_com_novo_modelo\"\n",
    "    layer_hidden = [5] # adicionar o numero de nos por camada,hidden, que bem se entender([5]->5 nos na camada hidden1; [3,6]-> 3 na camada hidden 1 e 6 na hidden 2;...)\n",
    "    learning_rate = 0.01\n",
    "    epochs=1\n",
    "    model = Train(data_to_train,newNNFile,layer_hidden,nodes_outuput, learning_rate, epochs)\n",
    "    model.train()\n",
    "    \n",
    "    print(\"\\033[32mModel Created!\\n\\033[0m\")"
   ]
  },
  {
   "cell_type": "code",
   "execution_count": 6,
   "metadata": {},
   "outputs": [],
   "source": [
    "model_teste= TestModel(\"ficheiro_com_novo_modelo\")\n",
    "\n",
    "# Testar e comparar labels\n",
    "#model_teste.test_with_label(data_to_test)\n",
    "\n",
    "# Testar e apenas escrever resultados no ficheiro 'results.txt'\n",
    "# pp_no_label = PreProcessing(\"test_no_labels\")\n",
    "# clean_data_no_label = pp_no_label.returnCleanText()\n",
    "# model_teste.test_without_labels(clean_data_no_label)"
   ]
  }
 ],
 "metadata": {
  "kernelspec": {
   "display_name": "LN",
   "language": "python",
   "name": "python3"
  },
  "language_info": {
   "codemirror_mode": {
    "name": "ipython",
    "version": 3
   },
   "file_extension": ".py",
   "mimetype": "text/x-python",
   "name": "python",
   "nbconvert_exporter": "python",
   "pygments_lexer": "ipython3",
   "version": "3.10.14"
  }
 },
 "nbformat": 4,
 "nbformat_minor": 2
}
