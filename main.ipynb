{
 "cells": [
  {
   "cell_type": "markdown",
   "metadata": {},
   "source": [
    "# Imports"
   ]
  },
  {
   "cell_type": "code",
   "execution_count": 1,
   "metadata": {},
   "outputs": [],
   "source": [
    "import os\n",
    "from nn import SimpleFFNN\n",
    "from train import Train\n",
    "from preProcessing import PreProcessing\n",
    "import numpy as np\n",
    "from testModel import TestModel"
   ]
  },
  {
   "cell_type": "markdown",
   "metadata": {},
   "source": [
    "# Função para dividir os dados de treino e de teste"
   ]
  },
  {
   "cell_type": "code",
   "execution_count": 2,
   "metadata": {},
   "outputs": [],
   "source": [
    "def split_array(data: np.ndarray, train_size: float = 0.8):\n",
    "    \"\"\"\n",
    "    Divide um array 2D em dois arrays: um com train_size dos dados e outro com o restante.\n",
    "    \n",
    "    :param data: O array 2D a ser dividido.\n",
    "    :param train_size: A proporção de dados a serem usados para o primeiro array (default é 0.8).\n",
    "    :return: Dois arrays 2D, um com os dados de treinamento e outro com os dados de teste.\n",
    "    \"\"\"\n",
    "    # Calcula o índice para a divisão\n",
    "    split_index = int(len(data) * train_size)\n",
    "    \n",
    "    # Embaralha os dados\n",
    "    np.random.shuffle(data)\n",
    "    \n",
    "    # Divide o array\n",
    "    train_data = data[:split_index]\n",
    "    test_data = data[split_index:]\n",
    "    \n",
    "    return train_data, test_data"
   ]
  },
  {
   "cell_type": "markdown",
   "metadata": {},
   "source": [
    "# Variaveis onde está os ficheiros de treino e o modelo"
   ]
  },
  {
   "cell_type": "code",
   "execution_count": 6,
   "metadata": {},
   "outputs": [],
   "source": [
    "#file onde já está o modelo treinado\"\n",
    "model=None\n",
    "newPKL = \"Pedro_6\"\n",
    "\n",
    "\n",
    "#limpesa de ficheiro de treino\n",
    "data=\"train\"\n",
    "#ficheiro onde vai ser feita ao autoavaliacao\n",
    "avaliation = \"test_no_labels\""
   ]
  },
  {
   "cell_type": "markdown",
   "metadata": {},
   "source": [
    "## Pre Processamento"
   ]
  },
  {
   "cell_type": "code",
   "execution_count": 3,
   "metadata": {},
   "outputs": [
    {
     "name": "stdout",
     "output_type": "stream",
     "text": [
      "\u001b[34mPre Processing the data\n",
      "\u001b[0m\n",
      "\u001b[32mPre Processing Completed!\n",
      "\u001b[0m\n"
     ]
    }
   ],
   "source": [
    "print(\"\\033[34mPre Processing the data\\n\\033[0m\")\n",
    "pp=PreProcessing(data+\".txt\")\n",
    "clean_data=pp.returnCleanText()\n",
    "print(\"\\033[32mPre Processing Completed!\\n\\033[0m\")"
   ]
  },
  {
   "cell_type": "markdown",
   "metadata": {},
   "source": [
    "# Dividir a train_data do test_data"
   ]
  },
  {
   "cell_type": "code",
   "execution_count": 42,
   "metadata": {},
   "outputs": [],
   "source": [
    "data_to_train, data_to_test = split_array(clean_data)"
   ]
  },
  {
   "cell_type": "markdown",
   "metadata": {},
   "source": [
    "## Carregar o modelo ou Criar um novo\n",
    "#### Conforme o nome dado a variavel 'newPKL'"
   ]
  },
  {
   "cell_type": "code",
   "execution_count": 7,
   "metadata": {},
   "outputs": [
    {
     "name": "stdout",
     "output_type": "stream",
     "text": [
      "\u001b[34mLoading Model\n",
      "\u001b[0m\n",
      "\u001b[32mLoading Completed!\n",
      "\u001b[0m\n"
     ]
    }
   ],
   "source": [
    "# Carregar o modelo se ele já existir\n",
    "if os.path.isfile(\"data/\"+newPKL+\".pkl\"):\n",
    "    print(\"\\033[34mLoading Model\\n\\033[0m\")\n",
    "    \n",
    "    model=SimpleFFNN.load_model(\"data/\"+newPKL+\".pkl\")\n",
    "    \n",
    "    print(\"\\033[32mLoading Completed!\\n\\033[0m\")\n",
    "# Se não existir, cria e treina um novo modelo   \n",
    "else:\n",
    "    print(\"\\033[34mCreating a new Model\\n\\033[0m\")\n",
    "    \n",
    "    layer_hidden = [50,25,9] # adicionar o numero de nos por camada,hidden, que bem se entender([5]->5 nos na camada hidden1; [3,6]-> 3 na camada hidden 1 e 6 na hidden 2;...)\n",
    "    learning_rate = 0.01\n",
    "    epochs=50\n",
    "    model = Train(data_to_train,newPKL,layer_hidden, learning_rate, epochs)\n",
    "    model.train()\n",
    "    \n",
    "    print(\"\\033[32mModel Created!\\n\\033[0m\")"
   ]
  },
  {
   "cell_type": "markdown",
   "metadata": {},
   "source": [
    "# Variavel para testar os modelos"
   ]
  },
  {
   "cell_type": "code",
   "execution_count": 8,
   "metadata": {},
   "outputs": [],
   "source": [
    "model_teste= TestModel(newPKL)"
   ]
  },
  {
   "cell_type": "markdown",
   "metadata": {},
   "source": [
    "# Teste do modelo com o ficheiro com as labels identificadas\n",
    "##### 'train.txt'"
   ]
  },
  {
   "cell_type": "code",
   "execution_count": 4,
   "metadata": {},
   "outputs": [
    {
     "ename": "NameError",
     "evalue": "name 'model_teste' is not defined",
     "output_type": "error",
     "traceback": [
      "\u001b[0;31m---------------------------------------------------------------------------\u001b[0m",
      "\u001b[0;31mNameError\u001b[0m                                 Traceback (most recent call last)",
      "Cell \u001b[0;32mIn[4], line 2\u001b[0m\n\u001b[1;32m      1\u001b[0m \u001b[38;5;66;03m# Testar e comparar labels\u001b[39;00m\n\u001b[0;32m----> 2\u001b[0m model_teste\u001b[38;5;241m.\u001b[39mtest_with_label(data_to_test)\n",
      "\u001b[0;31mNameError\u001b[0m: name 'model_teste' is not defined"
     ]
    }
   ],
   "source": [
    "# Testar e comparar labels\n",
    "model_teste.test_with_label(data_to_test)"
   ]
  },
  {
   "cell_type": "markdown",
   "metadata": {},
   "source": [
    "# Gerar ficheiro com os resultados do modelo, com inouts do ficheiro sem  as labels\n",
    "##### 'test_no_labels.txt'"
   ]
  },
  {
   "cell_type": "code",
   "execution_count": 5,
   "metadata": {},
   "outputs": [
    {
     "name": "stdout",
     "output_type": "stream",
     "text": [
      "\u001b[34mTesting the Model without Labels\n",
      "\u001b[0m\n",
      "\u001b[36mTest Completed!\n",
      "\u001b[0m\n"
     ]
    }
   ],
   "source": [
    "# Testar e apenas escrever resultados no ficheiro 'results.txt'\n",
    "pp_no_label = PreProcessing(avaliation+\".txt\")\n",
    "clean_data_no_label = pp_no_label.returnCleanText(plot_index=3)\n",
    "model_teste.test_without_labels(clean_data_no_label)"
   ]
  },
  {
   "cell_type": "markdown",
   "metadata": {},
   "source": [
    "# Testar apenas com 1 frase de input"
   ]
  },
  {
   "cell_type": "code",
   "execution_count": 12,
   "metadata": {},
   "outputs": [
    {
     "name": "stdout",
     "output_type": "stream",
     "text": [
      "\u001b[34mTrying to predict the genre\n",
      "\u001b[0m\n",
      "[ True]\n",
      "\u001b[32mFor the movie given by input the model said: romance', and was: 'romance'\u001b[0m\n"
     ]
    }
   ],
   "source": [
    "texto=\"Romeo and Juliet is a play written by Shakespeare. It is a tragic love story where the two main characters, Romeo and Juliet, are supposed to be sworn enemies but fall in love. Due to their families' ongoing conflict, they cannot be together, so they kill themselves because they cannot cope with being separated from one another. Romeo and Juliet is a Shakespearean tragedy\"\n",
    "clean_texto=PreProcessing.returnCleanInputText(texto)\n",
    "genre=\"romance\"\n",
    "model_teste.test_from_input(clean_texto,genre)"
   ]
  },
  {
   "cell_type": "markdown",
   "metadata": {},
   "source": [
    "# Testar com o nosso ficheiro de teste\n",
    "##### 'our_data.txt'"
   ]
  },
  {
   "cell_type": "code",
   "execution_count": 9,
   "metadata": {},
   "outputs": [
    {
     "name": "stdout",
     "output_type": "stream",
     "text": [
      "\u001b[34mPre Processing the Our data\n",
      "\u001b[0m\n",
      "\u001b[32mPre Processing Completed!\n",
      "\u001b[0m\n"
     ]
    }
   ],
   "source": [
    "print(\"\\033[34mPre Processing the Our data\\n\\033[0m\")\n",
    "pp=PreProcessing(\"our_data.txt\")\n",
    "clean_our_data=pp.returnCleanText(plot_index=2)\n",
    "print(\"\\033[32mPre Processing Completed!\\n\\033[0m\")"
   ]
  },
  {
   "cell_type": "code",
   "execution_count": 13,
   "metadata": {},
   "outputs": [
    {
     "name": "stdout",
     "output_type": "stream",
     "text": [
      "\u001b[34mTesting the Model with Labels\n",
      "\u001b[0m\n",
      "\u001b[31mFor the movie 'Dune' the model said: animation', and was: 'sci-fi'\u001b[0m\n",
      "\u001b[32mFor the movie 'Shrek' the model said: animation', and was: 'animation'\u001b[0m\n",
      "\u001b[32mFor the movie 'The Teacher' the model said: drama', and was: 'drama'\u001b[0m\n",
      "\u001b[32mFor the movie 'Coco' the model said: animation', and was: 'animation'\u001b[0m\n",
      "\u001b[32mFor the movie 'How I Met Your Mother' the model said: comedy', and was: 'comedy'\u001b[0m\n",
      "\u001b[31mFor the movie 'Scary Movie' the model said: horror', and was: 'comedy'\u001b[0m\n",
      "\u001b[31mFor the movie 'Back to the Future' the model said: action', and was: 'sci-fi'\u001b[0m\n",
      "\u001b[31mFor the movie 'Scream' the model said: action', and was: 'horror'\u001b[0m\n",
      "\u001b[31mFor the movie 'Fast and Furious' the model said: drama', and was: 'action'\u001b[0m\n",
      "\u001b[32mFor the movie '10 Things I Ate About You' the model said: romance', and was: 'romance'\u001b[0m\n",
      "\u001b[32mFor the movie 'O Rei Leao' the model said: animation', and was: 'animation'\u001b[0m\n",
      "\u001b[31mFor the movie 'Django Unchained' the model said: action', and was: 'western'\u001b[0m\n",
      "\u001b[31mFor the movie 'Fada Oriana' the model said: animation', and was: 'action'\u001b[0m\n",
      "\u001b[32mFor the movie 'Diamantes de Sangue' the model said: drama', and was: 'drama'\u001b[0m\n",
      "\u001b[32mFor the movie 'Mad Max' the model said: action', and was: 'action'\u001b[0m\n",
      "\u001b[31mFor the movie 'Harry Potter e a Pedra Filosofal' the model said: horror', and was: 'sci-fi'\u001b[0m\n",
      "\u001b[32mFor the movie 'Exorcist' the model said: horror', and was: 'horror'\u001b[0m\n",
      "\u001b[31mFor the movie 'Brooklin Nine-Nine' the model said: drama', and was: 'comedy'\u001b[0m\n",
      "\u001b[32mFor the movie 'Romeo and Juliet' the model said: romance', and was: 'romance'\u001b[0m\n",
      "\u001b[32mFor the movie 'Toy Story' the model said: animation', and was: 'animation'\u001b[0m\n",
      "\u001b[31mFor the movie 'The Island' the model said: animation', and was: 'crime'\u001b[0m\n",
      "\u001b[32mFor the movie 'Bohemian Rapsody' the model said: drama', and was: 'drama'\u001b[0m\n",
      "\u001b[32mFor the movie 'Saw' the model said: horror', and was: 'horror'\u001b[0m\n",
      "\u001b[32mFor the movie 'The Pursuit of Happiness' the model said: drama', and was: 'drama'\u001b[0m\n",
      "\u001b[31mFor the movie 'Ratatouille' the model said: horror', and was: 'animation'\u001b[0m\n",
      "\u001b[31mFor the movie 'Teddy 2' the model said: horror', and was: 'comedy'\u001b[0m\n",
      "\u001b[32mFor the movie 'La La Land' the model said: romance', and was: 'romance'\u001b[0m\n",
      "\u001b[32mFor the movie 'The Ring' the model said: horror', and was: 'horror'\u001b[0m\n",
      "\u001b[32mFor the movie 'Green Book' the model said: drama', and was: 'drama'\u001b[0m\n",
      "\u001b[32mFor the movie 'Iron Man' the model said: action', and was: 'action'\u001b[0m\n",
      "\u001b[31mFor the movie 'Interstellar' the model said: animation', and was: 'sci-fi'\u001b[0m\n",
      "\u001b[31mFor the movie 'Lupin' the model said: drama', and was: 'crime'\u001b[0m\n",
      "\u001b[31mFor the movie 'Meg: Tubarão Gigante' the model said: sci-fi', and was: 'action'\u001b[0m\n",
      "\u001b[32mFor the movie 'Matrix' the model said: sci-fi', and was: 'sci-fi'\u001b[0m\n",
      "\u001b[31mFor the movie 'Titanic' the model said: comedy', and was: 'drama'\u001b[0m\n",
      "\u001b[32mFor the movie 'John Wick' the model said: action', and was: 'action'\u001b[0m\n",
      "\u001b[32mFor the movie 'Tangled' the model said: animation', and was: 'animation'\u001b[0m\n",
      "\u001b[31mFor the movie 'The Menu' the model said: comedy', and was: 'horror'\u001b[0m\n",
      "\u001b[31mFor the movie 'Narcos' the model said: drama', and was: 'crime'\u001b[0m\n",
      "\u001b[32mFor the movie 'Jane the virgin' the model said: comedy', and was: 'comedy'\u001b[0m\n",
      "\u001b[31mFor the movie 'Joker' the model said: drama', and was: 'action'\u001b[0m\n",
      "\u001b[32mFor the movie 'The Great Gatsby' the model said: drama', and was: 'drama'\u001b[0m\n",
      "\u001b[31mFor the movie 'The Lord of the Rings:The Fellowship of the Ring' the model said: animation', and was: 'action'\u001b[0m\n",
      "\u001b[32mFor the movie 'Manchester by the Sea' the model said: drama', and was: 'drama'\u001b[0m\n",
      "\u001b[32mFor the movie 'The Human Centipede' the model said: horror', and was: 'horror'\u001b[0m\n",
      "\u001b[32mFor the movie '2001: A Space Odyssey' the model said: sci-fi', and was: 'sci-fi'\u001b[0m\n",
      "\u001b[31mFor the movie 'Bridgerton' the model said: comedy', and was: 'romance'\u001b[0m\n",
      "\u001b[31mFor the movie 'Fantasma da Ópera' the model said: horror', and was: 'drama'\u001b[0m\n",
      "\u001b[31mFor the movie 'Os condenados de shawshank' the model said: comedy', and was: 'drama'\u001b[0m\n",
      "\u001b[32mFor the movie 'Never Back Down' the model said: action', and was: 'action'\u001b[0m\n",
      "\u001b[31mFor the movie 'Avatar' the model said: action', and was: 'animation'\u001b[0m\n",
      "\u001b[31mFor the movie '2012' the model said: action', and was: 'sci-fi'\u001b[0m\n",
      "\u001b[31mFor the movie 'Sex and the City' the model said: romance', and was: 'drama'\u001b[0m\n",
      "\u001b[31mFor the movie 'Hannibal' the model said: action', and was: 'crime'\u001b[0m\n",
      "\u001b[32mFor the movie 'Home Alone' the model said: comedy', and was: 'comedy'\u001b[0m\n",
      "\u001b[32mFor the movie 'The Hangover' the model said: comedy', and was: 'comedy'\u001b[0m\n",
      "\u001b[31mFor the movie 'Taken' the model said: drama', and was: 'action'\u001b[0m\n",
      "\u001b[31mFor the movie 'Passengers' the model said: crime', and was: 'sci-fi'\u001b[0m\n",
      "\u001b[32mFor the movie 'Kingsman: Golden Circle' the model said: action', and was: 'action'\u001b[0m\n",
      "\u001b[31mFor the movie 'Pride and Prejudice' the model said: comedy', and was: 'romance'\u001b[0m\n",
      "\u001b[32mFor the movie 'Schindler's List' the model said: drama', and was: 'drama'\u001b[0m\n",
      "\u001b[32mFor the movie 'Madagascar' the model said: animation', and was: 'animation'\u001b[0m\n",
      "\u001b[32mFor the movie 'The Magnificent Seven' the model said: western', and was: 'western'\u001b[0m\n",
      "\u001b[32mFor the movie 'Halloween' the model said: horror', and was: 'horror'\u001b[0m\n",
      "\u001b[32mFor the movie 'The Notebook' the model said: romance', and was: 'romance'\u001b[0m\n",
      "\u001b[32mFor the movie '2 Fast 2 Furious' the model said: action', and was: 'action'\u001b[0m\n",
      "\u001b[31mFor the movie 'Me Before You' the model said: drama', and was: 'romance'\u001b[0m\n",
      "\u001b[32mFor the movie 'Gilmore Girls' the model said: comedy', and was: 'comedy'\u001b[0m\n",
      "\u001b[32mFor the movie 'Star Wars' the model said: sci-fi', and was: 'sci-fi'\u001b[0m\n",
      "\u001b[31mFor the movie 'American Psycho' the model said: crime', and was: 'drama'\u001b[0m\n",
      "\u001b[34mTest Completed with  \u001b[36m54.285714285714285%  \u001b[34mof success\u001b[0m\n"
     ]
    }
   ],
   "source": [
    "model_teste.test_with_label(clean_our_data,genre_index=1,plot_index=2)"
   ]
  }
 ],
 "metadata": {
  "kernelspec": {
   "display_name": "LN",
   "language": "python",
   "name": "python3"
  },
  "language_info": {
   "codemirror_mode": {
    "name": "ipython",
    "version": 3
   },
   "file_extension": ".py",
   "mimetype": "text/x-python",
   "name": "python",
   "nbconvert_exporter": "python",
   "pygments_lexer": "ipython3",
   "version": "3.12.4"
  }
 },
 "nbformat": 4,
 "nbformat_minor": 2
}
