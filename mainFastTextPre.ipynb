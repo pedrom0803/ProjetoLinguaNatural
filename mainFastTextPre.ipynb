{
 "cells": [
  {
   "cell_type": "markdown",
   "metadata": {},
   "source": [
    "# Imports"
   ]
  },
  {
   "cell_type": "code",
   "execution_count": 2,
   "metadata": {},
   "outputs": [
    {
     "name": "stderr",
     "output_type": "stream",
     "text": [
      "2024-10-08 11:33:46.653078: I tensorflow/core/platform/cpu_feature_guard.cc:182] This TensorFlow binary is optimized to use available CPU instructions in performance-critical operations.\n",
      "To enable the following instructions: SSE4.1 SSE4.2 AVX AVX2 AVX512F AVX512_VNNI AVX512_BF16 FMA, in other operations, rebuild TensorFlow with the appropriate compiler flags.\n",
      "[nltk_data] Downloading package stopwords to\n",
      "[nltk_data]     /home/joaocosta/nltk_data...\n",
      "[nltk_data]   Package stopwords is already up-to-date!\n",
      "[nltk_data] Downloading package wordnet to\n",
      "[nltk_data]     /home/joaocosta/nltk_data...\n",
      "[nltk_data]   Package wordnet is already up-to-date!\n"
     ]
    },
    {
     "data": {
      "text/plain": [
       "True"
      ]
     },
     "execution_count": 2,
     "metadata": {},
     "output_type": "execute_result"
    }
   ],
   "source": [
    "\n",
    "import os\n",
    "import numpy as np\n",
    "import pandas as pd\n",
    "from collections import Counter\n",
    "import matplotlib.pyplot as plt\n",
    "from wordcloud import WordCloud\n",
    "from spellchecker import SpellChecker\n",
    "from gensim.models import FastText\n",
    "import re\n",
    "import nltk\n",
    "import contractions\n",
    "from datetime import datetime\n",
    "from nltk.corpus import stopwords\n",
    "from nltk.stem import WordNetLemmatizer\n",
    "from sklearn.feature_extraction.text import TfidfVectorizer\n",
    "from sklearn.neural_network import MLPClassifier\n",
    "from sklearn.metrics import confusion_matrix, ConfusionMatrixDisplay, accuracy_score, precision_score, recall_score, f1_score, classification_report\n",
    "from sklearn.model_selection import train_test_split, cross_validate, StratifiedKFold\n",
    "from sklearn.multioutput import MultiOutputClassifier\n",
    "from sklearn.preprocessing import LabelBinarizer\n",
    "from sklearn.multiclass import OneVsRestClassifier\n",
    "from sklearn.preprocessing import LabelEncoder\n",
    "from sklearn.model_selection import train_test_split, cross_val_score, cross_validate\n",
    "from sklearn.model_selection import StratifiedKFold\n",
    "from tensorflow.keras.layers import Bidirectional\n",
    "import numpy as np\n",
    "import spacy\n",
    "from tensorflow.keras.models import Sequential\n",
    "from tensorflow.keras.layers import Embedding, LSTM, Dense, Dropout\n",
    "os.environ['TF_CPP_MIN_LOG_LEVEL'] = '2'\n",
    "from tensorflow.keras.preprocessing.text import Tokenizer\n",
    "from tensorflow.keras.preprocessing.sequence import pad_sequences\n",
    "import pickle\n",
    "import seaborn as sns\n",
    "\n",
    "# Download NLTK resources\n",
    "nltk.download('stopwords')\n",
    "nltk.download('wordnet')"
   ]
  },
  {
   "cell_type": "code",
   "execution_count": 3,
   "metadata": {},
   "outputs": [],
   "source": [
    "# Reading the file and converting it to a DataFrame\n",
    "def read_file_to_dataframe(filename):\n",
    "    data = []\n",
    "    \n",
    "    with open(\"./data/\" + filename, 'r', encoding='utf-8') as file:\n",
    "        for linha in file:\n",
    "            linha = linha.strip()  # Remove leading/trailing spaces and newlines\n",
    "            filme = linha.split('\\t')  # Split by tab\n",
    "            data.append(filme)  # Append the row to the data list\n",
    "    \n",
    "    # Convert the list of rows to a pandas DataFrame\n",
    "    df = pd.DataFrame(data)\n",
    "    \n",
    "    return df\n"
   ]
  },
  {
   "cell_type": "markdown",
   "metadata": {},
   "source": [
    "# Variaveis onde está os ficheiros de treino e o modelo"
   ]
  },
  {
   "cell_type": "code",
   "execution_count": 5,
   "metadata": {},
   "outputs": [],
   "source": [
    "#file onde já está o modelo treinado\"\n",
    "model=None\n",
    "newPKL = \"joao3\"\n",
    "\n",
    "\n",
    "#limpesa de ficheiro de treino\n",
    "data=\"train\"\n",
    "#ficheiro onde vai ser feita ao autoavaliacao\n",
    "avaliation = \"test_no_labels\""
   ]
  },
  {
   "cell_type": "code",
   "execution_count": 6,
   "metadata": {},
   "outputs": [
    {
     "name": "stdout",
     "output_type": "stream",
     "text": [
      "\u001b[34mData to DataFrame\n",
      "\u001b[0m\n",
      "                              0          1        2                        3  \\\n",
      "0                  Ela Cheppanu     Telugu  romance                   Ramana   \n",
      "1     A Nightmare on Elm Street   American   horror             Samuel Bayer   \n",
      "2               American Gothic   American   horror               John Hough   \n",
      "3                          Gang  Bollywood    crime              Mazhar Khan   \n",
      "4            Intimate Relations    British    drama            Charles Frank   \n",
      "...                         ...        ...      ...                      ...   \n",
      "8036              Sa 'Yo Lamang   Filipino    drama          Laurice Guillen   \n",
      "8037          The Lemon Sisters   American    drama             Joyce Chopra   \n",
      "8038      Dil Ne Phir Yaad Kiya  Bollywood  romance                  Unknown   \n",
      "8039  Rehnaa Hai Terre Dil Mein  Bollywood  romance            Gautham Menon   \n",
      "8040             Things to Come    British   sci-fi  William Cameron Menzies   \n",
      "\n",
      "                                                      4  \n",
      "0     Sekhar (Tarun) is a graduate from IIM and work...  \n",
      "1     Kris Fowles (Katie Cassidy) goes to the Spring...  \n",
      "2     Cynthia is traumatized by the death of her bab...  \n",
      "3     Four friends, Gangu (Jackie Shroff), Abdul (Na...  \n",
      "4     Crisis in a middle-class family when the son f...  \n",
      "...                                                 ...  \n",
      "8036  Dianne seems to have a happy family. She and h...  \n",
      "8037  Three lifelong friends work the bars in 1980's...  \n",
      "8038  City-based Ashok, who works as a Salesman in a...  \n",
      "8039  The story starts with narration by Maddy (R. M...  \n",
      "8040  In the British city of Everytown, businessman ...  \n",
      "\n",
      "[8041 rows x 5 columns]\n"
     ]
    }
   ],
   "source": [
    "print(\"\\033[34mData to DataFrame\\n\\033[0m\")\n",
    "# Example usage\n",
    "df = read_file_to_dataframe(data+\".txt\")\n",
    "print(df)"
   ]
  },
  {
   "cell_type": "code",
   "execution_count": 7,
   "metadata": {},
   "outputs": [
    {
     "name": "stdout",
     "output_type": "stream",
     "text": [
      "8041\n",
      "Average word count: 370.33\n"
     ]
    },
    {
     "data": {
      "image/png": "[encoded data removed]",
      "text/plain": [
       "<Figure size 1000x200 with 1 Axes>"
      ]
     },
     "metadata": {},
     "output_type": "display_data"
    }
   ],
   "source": [
    "# histogram of word count\n",
    "print(len(df))\n",
    "\n",
    "df['word_count'] = df[4].apply(lambda x: len(x.split()))\n",
    "avg_word_count = df['word_count'].mean()\n",
    "print(f'Average word count: {avg_word_count:.2f}')\n",
    "# Plotting the histogram of word counts\n",
    "plt.figure(figsize=(10, 2))\n",
    "plt.hist(df['word_count'], bins=80, color='skyblue', edgecolor='black')\n",
    "plt.title('Histogram of Word Counts in summarization of movies')\n",
    "plt.xlabel('Word Count')\n",
    "plt.ylabel('Frequency')\n",
    "plt.grid(True)\n",
    "plt.show()\n"
   ]
  },
  {
   "cell_type": "code",
   "execution_count": null,
   "metadata": {},
   "outputs": [],
   "source": [
    "# Flatten all words from the 4th column into a single list\n",
    "all_words = [word for row in df[4] for word in row.split()]\n",
    "\n",
    "word_counter = Counter(all_words)\n",
    "\n",
    "top_10_words = word_counter.most_common(10)\n",
    "\n",
    "for word, count in top_10_words:\n",
    "    print(f\"{word}: {count}\")\n",
    "\n",
    "words, counts = zip(*top_10_words)\n",
    "\n",
    "plt.figure(figsize=(10, 4))\n",
    "plt.bar(words, counts, color='lightcoral')\n",
    "plt.title('Top 10 Most Common Words in 4th Column')\n",
    "plt.xlabel('Words')\n",
    "plt.ylabel('Frequency')\n",
    "plt.xticks(rotation=45, ha='right')  # Rotate word labels for better readability\n",
    "plt.tight_layout()\n",
    "plt.show()"
   ]
  },
  {
   "cell_type": "code",
   "execution_count": null,
   "metadata": {},
   "outputs": [],
   "source": [
    "# Generate a word cloud\n",
    "wordcloud = WordCloud(width=800, height=400, background_color='white').generate_from_frequencies(word_counter)\n",
    "\n",
    "# Plot the word cloud\n",
    "plt.figure(figsize=(10, 6))\n",
    "plt.imshow(wordcloud, interpolation='bilinear')\n",
    "plt.axis('off')  # Turn off the axis\n",
    "plt.title('Word Cloud of Words in 4th Column')\n",
    "plt.show()"
   ]
  },
  {
   "cell_type": "code",
   "execution_count": null,
   "metadata": {},
   "outputs": [],
   "source": [
    "# Check for typos using the pyspellchecker\n",
    "spell = SpellChecker()\n",
    "misspelled_words = spell.unknown(all_words)  # Identify misspelled words\n",
    "\n",
    "# Display the number of potential typos\n",
    "print(f\"Number of potential typos: {len(misspelled_words)}\")\n",
    "\n",
    "# Optionally, print the misspelled words\n",
    "print(\"\\nPotential typos detected:\")\n",
    "for word in misspelled_words:\n",
    "    print(word)"
   ]
  },
  {
   "cell_type": "markdown",
   "metadata": {},
   "source": [
    "## Pre Processamento"
   ]
  },
  {
   "cell_type": "code",
   "execution_count": 9,
   "metadata": {},
   "outputs": [],
   "source": [
    "# Function to standardize dates\n",
    "def standardize_dates(text):\n",
    "    def _month_to_number(month_name):\n",
    "        try:\n",
    "            return datetime.strptime(month_name, \"%b\").month  # Abbreviated month names (e.g., \"Feb\")\n",
    "        except ValueError:\n",
    "            try:\n",
    "                return datetime.strptime(month_name, \"%B\").month  # Full month names (e.g., \"February\")\n",
    "            except ValueError:\n",
    "                return None  # Return None for invalid month names\n",
    "\n",
    "    def _handle_two_digit_year(year):\n",
    "        if not year:  # If year is None or empty\n",
    "            return \"\"\n",
    "        year = int(year)\n",
    "        return year + 2000 if year < 100 else year\n",
    "\n",
    "    # Date normalization using regex\n",
    "    text = re.sub(\n",
    "        r'(\\b[A-Za-z]+) (\\d{1,2})(?:st|nd|rd|th)?(?:,)? (\\d{4})?',\n",
    "        lambda match: (\n",
    "            f\"{int(match.group(2)):02d}/{_month_to_number(match.group(1)):02d}/{match.group(3)}\"\n",
    "            if _month_to_number(match.group(1)) is not None and match.group(3)  # Ensure month and year exist\n",
    "            else f\"{int(match.group(2)):02d}/{_month_to_number(match.group(1)):02d}\"\n",
    "            if _month_to_number(match.group(1)) is not None  # Ensure month exists\n",
    "            else match.group(0)  # Return original text if invalid month\n",
    "        ),\n",
    "        text\n",
    "    )\n",
    "\n",
    "    # Handle formats like \"8-Feb-2013\"\n",
    "    text = re.sub(\n",
    "        r'(\\d{1,2})(?:st|nd|rd|th)?[-/.](\\b[A-Za-z]+)\\b[-/.]?(\\d{2,4})?',\n",
    "        lambda match: (\n",
    "            f\"{int(match.group(1)):02d}/{_month_to_number(match.group(2)):02d}/{_handle_two_digit_year(match.group(3))}\"\n",
    "            if _month_to_number(match.group(2)) is not None and match.group(3)  # Ensure month and year exist\n",
    "            else f\"{int(match.group(1)):02d}/{_month_to_number(match.group(2)):02d}\"\n",
    "            if _month_to_number(match.group(2)) is not None  # Ensure month exists\n",
    "            else match.group(0)  # Return original text if invalid month\n",
    "        ),\n",
    "        text\n",
    "    )\n",
    "\n",
    "    return text"
   ]
  },
  {
   "cell_type": "code",
   "execution_count": 10,
   "metadata": {},
   "outputs": [],
   "source": [
    "# lowercasing\n",
    "def lowercase_text(text):\n",
    "    return text.lower()"
   ]
  },
  {
   "cell_type": "code",
   "execution_count": 11,
   "metadata": {},
   "outputs": [],
   "source": [
    "nlp = spacy.load(\"en_core_web_sm\")\n",
    "\n",
    "def lemmatize_text(text):\n",
    "    # Process the text with spaCy\n",
    "    doc = nlp(text)\n",
    "    # Extract and return lemmatized words\n",
    "    lemmatized_words = [token.lemma_ for token in doc]\n",
    "    return \" \".join(lemmatized_words)"
   ]
  },
  {
   "cell_type": "code",
   "execution_count": 12,
   "metadata": {},
   "outputs": [],
   "source": [
    "# stop words\n",
    "stop_words = set(stopwords.words('english'))\n",
    "def remove_stopwords(text, stop_words=stop_words):\n",
    "    words = text.split()\n",
    "    filtered_words = [word for word in words if word.lower() not in stop_words and word.lower()]\n",
    "    return \" \".join(filtered_words)"
   ]
  },
  {
   "cell_type": "code",
   "execution_count": 13,
   "metadata": {},
   "outputs": [],
   "source": [
    "#contractions\n",
    "def expand_contractions(text):\n",
    "    if not isinstance(text, str) or not text:\n",
    "        # Return an empty string or the original text if it's not a valid string\n",
    "        return text\n",
    "\n",
    "    try:\n",
    "        # Use contractions.fix to expand contractions in the text\n",
    "        return contractions.fix(text)\n",
    "    except IndexError as e:\n",
    "        print(f\"IndexError encountered: {e}\")\n",
    "        # Optionally return the original text if there's an error\n",
    "        return text\n"
   ]
  },
  {
   "cell_type": "code",
   "execution_count": 14,
   "metadata": {},
   "outputs": [],
   "source": [
    "# Remove punctuation except for specific cases like \"Dr.\" or \"Mr.\"\n",
    "def remove_punctuation(text):\n",
    "    # Replace specific abbreviations with placeholders\n",
    "    text = re.sub(r'\\b(Dr|Mr|Ms|Mrs)\\.', r'\\1_PLACEHOLDER_', text)\n",
    "    \n",
    "    # Remove all punctuation\n",
    "    text = re.sub(r'[^\\w\\s]', '', text)\n",
    "    \n",
    "    # Restore the abbreviations\n",
    "    text = text.replace('_PLACEHOLDER_', '.')\n",
    "    \n",
    "    return text"
   ]
  },
  {
   "cell_type": "code",
   "execution_count": null,
   "metadata": {},
   "outputs": [],
   "source": [
    "def remove_references(text):\n",
    "    # Substituir \".[\\d]\" por \".\"\n",
    "    text = re.sub(r'\\.\\[\\d+\\]', '.', text)\n",
    "    \n",
    "    return text"
   ]
  },
  {
   "cell_type": "code",
   "execution_count": null,
   "metadata": {},
   "outputs": [],
   "source": [
    "print(\"\\033[34mPre Processing the data\\n\\033[0m\")\n",
    "def preprocess_text(text):\n",
    "    text = expand_contractions(text)       # Step 1: Expand contractions\n",
    "    text = standardize_dates(text)         # Step 2: Normalize dates\n",
    "    text = lowercase_text(text)            # Step 3: Convert to lowercase\n",
    "    text = remove_punctuation(text)        # Step 4: Remove punctuation but keep specific cases\n",
    "    text = remove_stopwords(text)          # Step 5: Remove stopwords\n",
    "    text = lemmatize_text(text)            # Step 6: Lemmatize the text\n",
    "    text = remove_references(text)         # Step 7: Remove references\n",
    "    \n",
    "    return text\n",
    "\n",
    "# Example usage\n",
    "\n",
    "# df.iloc[:, 4] = df.iloc[:, 4].apply(preprocess_text)\n",
    "\n",
    "print(\"\\033[32mPre Processing Completed!\\n\\033[0m\")"
   ]
  },
  {
   "cell_type": "code",
   "execution_count": null,
   "metadata": {},
   "outputs": [],
   "source": [
    "# histogram of word count after pre-processing\n",
    "df['word_count'] = df[4].apply(lambda x: len(x.split()))\n",
    "avg_word_count = df['word_count'].mean()\n",
    "print(f'Average word count: {avg_word_count:.2f}')\n",
    "# Plotting the histogram of word counts\n",
    "plt.figure(figsize=(10, 2))\n",
    "plt.hist(df['word_count'], bins=80, color='skyblue', edgecolor='black')\n",
    "plt.title('Histogram of Word Counts in summarization of movies')\n",
    "plt.xlabel('Word Count')\n",
    "plt.ylabel('Frequency')\n",
    "plt.grid(True)\n",
    "plt.show()"
   ]
  },
  {
   "cell_type": "code",
   "execution_count": null,
   "metadata": {},
   "outputs": [],
   "source": [
    "# Flatten all words from the 4th column into a single list after pre-processing\n",
    "all_words = [word for row in df[4] for word in row.split()]\n",
    "\n",
    "word_counter = Counter(all_words)\n",
    "\n",
    "top_10_words = word_counter.most_common(10)\n",
    "\n",
    "for word, count in top_10_words:\n",
    "    print(f\"{word}: {count}\")\n",
    "\n",
    "words, counts = zip(*top_10_words)\n",
    "\n",
    "plt.figure(figsize=(10, 4))\n",
    "plt.bar(words, counts, color='lightcoral')\n",
    "plt.title('Top 10 Most Common Words in 4th Column')\n",
    "plt.xlabel('Words')\n",
    "plt.ylabel('Frequency')\n",
    "plt.xticks(rotation=45, ha='right')  # Rotate word labels for better readability\n",
    "plt.tight_layout()\n",
    "plt.show()"
   ]
  },
  {
   "cell_type": "markdown",
   "metadata": {},
   "source": [
    "# Data after Pre Processing"
   ]
  },
  {
   "cell_type": "code",
   "execution_count": null,
   "metadata": {},
   "outputs": [],
   "source": [
    "# Generate a word cloud after pre-processing\n",
    "wordcloud = WordCloud(width=800, height=400, background_color='white').generate_from_frequencies(word_counter)\n",
    "\n",
    "# Plot the word cloud\n",
    "plt.figure(figsize=(10, 6))\n",
    "plt.imshow(wordcloud, interpolation='bilinear')\n",
    "plt.axis('off')  # Turn off the axis\n",
    "plt.title('Word Cloud of Words in 4th Column')\n",
    "plt.show()"
   ]
  },
  {
   "cell_type": "markdown",
   "metadata": {},
   "source": [
    "## Carregar o modelo ou Criar um novo\n",
    "#### Conforme o nome dado a variavel 'newPKL'"
   ]
  },
  {
   "cell_type": "code",
   "execution_count": 1,
   "metadata": {},
   "outputs": [
    {
     "name": "stdout",
     "output_type": "stream",
     "text": [
      "Downloading https://dl.fbaipublicfiles.com/fasttext/vectors-crawl/cc.en.300.bin.gz\n",
      " (100.00%) [==================================================>]                                                 ]>                                                  ]>                                                  ]>                                                  ]>                                                  ]>                                                  ]>                                                  ]>                                                  ]>                                                  ]>                                                  ]>                                                  ]>                                                  ]>                                                  ]>                                                  ]>                                                  ]>                                                  ]>                                                  ]>                                                  ]>                                                  ]>                                                  ]>                                                  ]>                                                  ]>                                                  ]>                                                  ]>                                                  ]>                                                  ]>                                                  ]>                                                  ]>                                                  ]>                                                  ]>                                                  ]>                                                  ]>                                                  ]>                                                  ]>                                                  ]>                                                  ]>                                                  ]>                                                  ]>                                                  ]>                                                  ]>                                                  ]>                                                  ]>                                                  ]>                                                  ]>                                                  ]>                                                  ]>                                                  ]>                                                  ]>                                                  ]>                                                  ]>                                                  ]>                                                  ]>                                                  ]>                                                  ]>                                                  ]=>                                                 ]=>                                                 ]=>                                                 ]=>                                                 ]=>                                                 ]=>                                                 ]=>                                                 ]=>                                                 ]=>                                                 ]=>                                                 ]=>                                                 ]=>                                                 ]=>                                                 ]=>                                                 ]=>                                                 ]=>                                                 ]=>                                                 ]=>                                                 ]=>                                                 ]=>                                                 ]==>                                                ]==>                                                ]==>                                                ]==>                                                ]==>                                                ]==>                                                ]==>                                                ]==>                                                ]==>                                                ]==>                                                ]==>                                                ]==>                                                ]==>                                                ]==>                                                ]===>                                               ]===>                                               ]===>                                               ]===>                                               ]===>                                               ]===>                                               ]===>                                               ]===>                                               ]===>                                               ]===>                                               ]===>                                               ]===>                                               ]===>                                               ]===>                                               ]===>                                               ]===>                                               ]===>                                               ]===>                                               ]===>                                               ]===>                                               ]===>                                               ]===>                                               ]===>                                               ]===>                                               ]===>                                               ]===>                                               ]===>                                               ]===>                                               ]===>                                               ]====>                                              ]====>                                              ]====>                                              ]====>                                              ]====>                                              ]====>                                              ]====>                                              ]====>                                              ]====>                                              ]====>                                              ]====>                                              ]====>                                              ]====>                                              ]====>                                              ]====>                                              ]====>                                              ]====>                                              ]====>                                              ]====>                                              ]=====>                                             ]=====>                                             ]=====>                                             ]=====>                                             ]=====>                                             ]=====>                                             ]=====>                                             ]=====>                                             ]=====>                                             ]=====>                                             ]=====>                                             ]=====>                                             ]======>                                            ]======>                                            ]======>                                            ]======>                                            ]======>                                            ]======>                                            ]======>                                            ]======>                                            ]======>                                            ]======>                                            ]======>                                            ]======>                                            ]======>                                            ]======>                                            ]======>                                            ]======>                                            ]======>                                            ]======>                                            ]======>                                            ]======>                                            ]======>                                            ]======>                                            ]======>                                            ]======>                                            ]======>                                            ]=======>                                           ]=======>                                           ]=======>                                           ]=======>                                           ]=======>                                           ]=======>                                           ]=======>                                           ]=======>                                           ]=======>                                           ]=======>                                           ]=======>                                           ]=======>                                           ]========>                                          ]========>                                          ]========>                                          ]========>                                          ]========>                                          ]========>                                          ]========>                                          ]========>                                          ]========>                                          ]========>                                          ]========>                                          ]========>                                          ]========>                                          ]========>                                          ]========>                                          ]========>                                          ]=========>                                         ]=========>                                         ]=========>                                         ]=========>                                         ]=========>                                         ]=========>                                         ]=========>                                         ]=========>                                         ]=========>                                         ]=========>                                         ]=========>                                         ]=========>                                         ]=========>                                         ]=========>                                         ]=========>                                         ]=========>                                         ]=========>                                         ]=========>                                         ]=========>                                         ]=========>                                         ]=========>                                         ]=========>                                         ]=========>                                         ]=========>                                         ]=========>                                         ]=========>                                         ]==========>                                        ]==========>                                        ]==========>                                        ]==========>                                        ]==========>                                        ]==========>                                        ]==========>                                        ]==========>                                        ]==========>                                        ]==========>                                        ]==========>                                        ]==========>                                        ]==========>                                        ]==========>                                        ]===========>                                       ]===========>                                       ]===========>                                       ]===========>                                       ]===========>                                       ]===========>                                       ]===========>                                       ]===========>                                       ]===========>                                       ]===========>                                       ]===========>                                       ]===========>                                       ]===========>                                       ]===========>                                       ]===========>                                       ]===========>                                       ]===========>                                       ]===========>                                       ]===========>                                       ]===========>                                       ]===========>                                       ]============>                                      ]============>                                      ]============>                                      ]============>                                      ]============>                                      ]============>                                      ]============>                                      ]============>                                      ]============>                                      ]============>                                      ]============>                                      ]============>                                      ]============>                                      ]============>                                      ]============>                                      ]============>                                      ]============>                                      ]============>                                      ]============>                                      ]=============>                                     ]=============>                                     ]=============>                                     ]=============>                                     ]=============>                                     ]=============>                                     ]=============>                                     ]=============>                                     ]=============>                                     ]=============>                                     ]=============>                                     ]=============>                                     ]=============>                                     ]=============>                                     ]=============>                                     ]=============>                                     ]=============>                                     ]=============>                                     ]=============>                                     ]=============>                                     ]=============>                                     ]=============>                                     ]==============>                                    ]==============>                                    ]==============>                                    ]==============>                                    ]==============>                                    ]==============>                                    ]==============>                                    ]==============>                                    ]==============>                                    ]==============>                                    ]==============>                                    ]==============>                                    ]==============>                                    ]==============>                                    ]==============>                                    ]==============>                                    ]==============>                                    ]==============>                                    ]==============>                                    ]==============>                                    ]==============>                                    ]==============>                                    ]==============>                                    ]==============>                                    ]==============>                                    ]==============>                                    ]===============>                                   ]===============>                                   ]===============>                                   ]===============>                                   ]===============>                                   ]===============>                                   ]===============>                                   ]===============>                                   ]===============>                                   ]===============>                                   ]===============>                                   ]===============>                                   ]===============>                                   ]===============>                                   ]===============>                                   ]===============>                                   ]===============>                                   ]===============>                                   ]===============>                                   ]===============>                                   ]===============>                                   ]===============>                                   ]===============>                                   ]===============>                                   ]===============>                                   ]===============>                                   ]===============>                                   ]================>                                  ]================>                                  ]================>                                  ]================>                                  ]================>                                  ]================>                                  ]================>                                  ]================>                                  ]================>                                  ]================>                                  ]================>                                  ]================>                                  ]================>                                  ]================>                                  ]================>                                  ]================>                                  ]================>                                  ]================>                                  ]================>                                  ]================>                                  ]================>                                  ]=================>                                 ]=================>                                 ]=================>                                 ]=================>                                 ]=================>                                 ]=================>                                 ]=================>                                 ]=================>                                 ]=================>                                 ]=================>                                 ]=================>                                 ]=================>                                 ]==================>                                ]==================>                                ]==================>                                ]==================>                                ]==================>                                ]==================>                                ]==================>                                ]==================>                                ]==================>                                ]==================>                                ]==================>                                ]==================>                                ]==================>                                ]==================>                                ]==================>                                ]==================>                                ]==================>                                ]==================>                                ]==================>                                ]==================>                                ]==================>                                ]==================>                                ]===================>                               ]===================>                               ]===================>                               ]===================>                               ]===================>                               ]===================>                               ]===================>                               ]===================>                               ]===================>                               ]===================>                               ]===================>                               ]====================>                              ]====================>                              ]====================>                              ]====================>                              ]====================>                              ]====================>                              ]====================>                              ]====================>                              ]====================>                              ]====================>                              ]====================>                              ]====================>                              ]====================>                              ]====================>                              ]====================>                              ]====================>                              ]====================>                              ]====================>                              ]====================>                              ]====================>                              ]====================>                              ]====================>                              ]====================>                              ]=====================>                             ]=====================>                             ]=====================>                             ]=====================>                             ]=====================>                             ]=====================>                             ]=====================>                             ]=====================>                             ]=====================>                             ]=====================>                             ]=====================>                             ]=====================>                             ]=====================>                             ]=====================>                             ]=====================>                             ]=====================>                             ]=====================>                             ]=====================>                             ]======================>                            ]======================>                            ]======================>                            ]======================>                            ]======================>                            ]======================>                            ]======================>                            ]======================>                            ]======================>                            ]======================>                            ]======================>                            ]======================>                            ]======================>                            ]======================>                            ]======================>                            ]======================>                            ]======================>                            ]======================>                            ]======================>                            ]=======================>                           ]=======================>                           ]=======================>                           ]=======================>                           ]=======================>                           ]=======================>                           ]=======================>                           ]=======================>                           ]=======================>                           ]=======================>                           ]=======================>                           ]=======================>                           ]=======================>                           ]=======================>                           ]========================>                          ]========================>                          ]========================>                          ]========================>                          ]========================>                          ]========================>                          ]========================>                          ]========================>                          ]========================>                          ]========================>                          ]========================>                          ]========================>                          ]========================>                          ]========================>                          ]========================>                          ]========================>                          ]========================>                          ]========================>                          ]========================>                          ]========================>                          ]========================>                          ]=========================>                         ]=========================>                         ]=========================>                         ]=========================>                         ]=========================>                         ]=========================>                         ]=========================>                         ]=========================>                         ]=========================>                         ]=========================>                         ]=========================>                         ]=========================>                         ]=========================>                         ]==========================>                        ]==========================>                        ]==========================>                        ]==========================>                        ]==========================>                        ]==========================>                        ]==========================>                        ]==========================>                        ]==========================>                        ]==========================>                        ]==========================>                        ]===========================>                       ]===========================>                       ]===========================>                       ]===========================>                       ]===========================>                       ]===========================>                       ]===========================>                       ]===========================>                       ]===========================>                       ]===========================>                       ]===========================>                       ]===========================>                       ]===========================>                       ]===========================>                       ]===========================>                       ]===========================>                       ]===========================>                       ]===========================>                       ]===========================>                       ]===========================>                       ]===========================>                       ]===========================>                       ]===========================>                       ]============================>                      ]============================>                      ]============================>                      ]============================>                      ]============================>                      ]============================>                      ]============================>                      ]============================>                      ]============================>                      ]============================>                      ]============================>                      ]============================>                      ]============================>                      ]============================>                      ]============================>                      ]============================>                      ]============================>                      ]============================>                      ]============================>                      ]============================>                      ]============================>                      ]============================>                      ]============================>                      ]============================>                      ]=============================>                     ]=============================>                     ]=============================>                     ]=============================>                     ]=============================>                     ]=============================>                     ]=============================>                     ]=============================>                     ]=============================>                     ]=============================>                     ]=============================>                     ]=============================>                     ]=============================>                     ]=============================>                     ]=============================>                     ]=============================>                     ]=============================>                     ]=============================>                     ]=============================>                     ]=============================>                     ]=============================>                     ]=============================>                     ]=============================>                     ]=============================>                     ]==============================>                    ]==============================>                    ]==============================>                    ]==============================>                    ]==============================>                    ]==============================>                    ]==============================>                    ]==============================>                    ]==============================>                    ]==============================>                    ]==============================>                    ]==============================>                    ]==============================>                    ]==============================>                    ]==============================>                    ]==============================>                    ]==============================>                    ]==============================>                    ]==============================>                    ]==============================>                    ]==============================>                    ]==============================>                    ]===============================>                   ]===============================>                   ]===============================>                   ]===============================>                   ]===============================>                   ]===============================>                   ]===============================>                   ]===============================>                   ]===============================>                   ]===============================>                   ]===============================>                   ]===============================>                   ]===============================>                   ]===============================>                   ]===============================>                   ]===============================>                   ]===============================>                   ]===============================>                   ]================================>                  ]================================>                  ]================================>                  ]================================>                  ]================================>                  ]================================>                  ]================================>                  ]================================>                  ]================================>                  ]================================>                  ]================================>                  ]================================>                  ]================================>                  ]================================>                  ]================================>                  ]================================>                  ]================================>                  ]================================>                  ]================================>                  ]================================>                  ]================================>                  ]================================>                  ]================================>                  ]=================================>                 ]=================================>                 ]=================================>                 ]=================================>                 ]=================================>                 ]=================================>                 ]=================================>                 ]=================================>                 ]=================================>                 ]=================================>                 ]=================================>                 ]=================================>                 ]=================================>                 ]=================================>                 ]=================================>                 ]=================================>                 ]=================================>                 ]=================================>                 ]=================================>                 ]==================================>                ]==================================>                ]==================================>                ]==================================>                ]==================================>                ]==================================>                ]==================================>                ]==================================>                ]==================================>                ]==================================>                ]==================================>                ]==================================>                ]==================================>                ]==================================>                ]==================================>                ]==================================>                ]==================================>                ]==================================>                ]==================================>                ]==================================>                ]==================================>                ]==================================>                ]===================================>               ]===================================>               ]===================================>               ]===================================>               ]===================================>               ]===================================>               ]===================================>               ]===================================>               ]===================================>               ]===================================>               ]===================================>               ]===================================>               ]===================================>               ]===================================>               ]===================================>               ]===================================>               ]===================================>               ]===================================>               ]===================================>               ]===================================>               ]===================================>               ]===================================>               ]===================================>               ]====================================>              ]====================================>              ]====================================>              ]====================================>              ]====================================>              ]====================================>              ]====================================>              ]====================================>              ]====================================>              ]====================================>              ]====================================>              ]====================================>              ]====================================>              ]====================================>              ]=====================================>             ]=====================================>             ]=====================================>             ]=====================================>             ]=====================================>             ]=====================================>             ]=====================================>             ]=====================================>             ]=====================================>             ]=====================================>             ]=====================================>             ]=====================================>             ]=====================================>             ]=====================================>             ]=====================================>             ]=====================================>             ]=====================================>             ]=====================================>             ]=====================================>             ]======================================>            ]======================================>            ]======================================>            ]======================================>            ]======================================>            ]======================================>            ]======================================>            ]======================================>            ]======================================>            ]======================================>            ]======================================>            ]======================================>            ]======================================>            ]======================================>            ]=======================================>           ]=======================================>           ]=======================================>           ]=======================================>           ]=======================================>           ]=======================================>           ]=======================================>           ]=======================================>           ]=======================================>           ]=======================================>           ]=======================================>           ]=======================================>           ]=======================================>           ]=======================================>           ]=======================================>           ]=======================================>           ]=======================================>           ]=======================================>           ]=======================================>           ]=======================================>           ]=======================================>           ]=======================================>           ]=======================================>           ]=======================================>           ]=======================================>           ]========================================>          ]========================================>          ]========================================>          ]========================================>          ]========================================>          ]========================================>          ]========================================>          ]========================================>          ]========================================>          ]========================================>          ]========================================>          ]========================================>          ]========================================>          ]========================================>          ]========================================>          ]========================================>          ]========================================>          ]========================================>          ]========================================>          ]========================================>          ]========================================>          ]========================================>          ]========================================>          ]========================================>          ]========================================>          ]========================================>          ]=========================================>         ]=========================================>         ]=========================================>         ]=========================================>         ]=========================================>         ]=========================================>         ]=========================================>         ]=========================================>         ]=========================================>         ]=========================================>         ]=========================================>         ]=========================================>         ]=========================================>         ]=========================================>         ]=========================================>         ]=========================================>         ]=========================================>         ]=========================================>         ]=========================================>         ]=========================================>         ]=========================================>         ]=========================================>         ]=========================================>         ]=========================================>         ]=========================================>         ]=========================================>         ]==========================================>        ]==========================================>        ]==========================================>        ]==========================================>        ]==========================================>        ]==========================================>        ]==========================================>        ]==========================================>        ]==========================================>        ]==========================================>        ]==========================================>        ]==========================================>        ]==========================================>        ]==========================================>        ]==========================================>        ]==========================================>        ]==========================================>        ]===========================================>       ]===========================================>       ]===========================================>       ]===========================================>       ]===========================================>       ]===========================================>       ]===========================================>       ]===========================================>       ]===========================================>       ]===========================================>       ]===========================================>       ]===========================================>       ]===========================================>       ]===========================================>       ]===========================================>       ]===========================================>       ]============================================>      ]============================================>      ]============================================>      ]============================================>      ]============================================>      ]============================================>      ]============================================>      ]============================================>      ]============================================>      ]============================================>      ]============================================>      ]============================================>      ]============================================>      ]============================================>      ]============================================>      ]============================================>      ]============================================>      ]============================================>      ]============================================>      ]============================================>      ]=============================================>     ]=============================================>     ]=============================================>     ]=============================================>     ]=============================================>     ]=============================================>     ]=============================================>     ]=============================================>     ]=============================================>     ]=============================================>     ]=============================================>     ]=============================================>     ]=============================================>     ]=============================================>     ]=============================================>     ]=============================================>     ]=============================================>     ]=============================================>     ]=============================================>     ]=============================================>     ]=============================================>     ]=============================================>     ]=============================================>     ]=============================================>     ]=============================================>     ]=============================================>     ]==============================================>    ]==============================================>    ]==============================================>    ]==============================================>    ]==============================================>    ]==============================================>    ]==============================================>    ]==============================================>    ]==============================================>    ]==============================================>    ]==============================================>    ]==============================================>    ]===============================================>   ]===============================================>   ]===============================================>   ]===============================================>   ]===============================================>   ]===============================================>   ]===============================================>   ]===============================================>   ]===============================================>   ]===============================================>   ]===============================================>   ]===============================================>   ]===============================================>   ]===============================================>   ]===============================================>   ]===============================================>   ]===============================================>   ]================================================>  ]================================================>  ]================================================>  ]================================================>  ]================================================>  ]================================================>  ]================================================>  ]================================================>  ]================================================>  ]================================================>  ]================================================>  ]================================================>  ]================================================>  ]================================================>  ]================================================>  ]================================================>  ]================================================>  ]================================================>  ]================================================>  ]================================================>  ]================================================>  ]================================================>  ]================================================>  ]================================================>  ]================================================>  ]================================================>  ]================================================>  ]================================================>  ]================================================>  ]=================================================> ]=================================================> ]=================================================> ]=================================================> ]=================================================> ]=================================================> ]=================================================> ]=================================================> ]=================================================> ]=================================================> ]=================================================> ]=================================================> ]=================================================> ]=================================================> ]=================================================> ]=================================================> ]=================================================> ]=================================================> ]=================================================> ]=================================================> ]=================================================> ]\n"
     ]
    }
   ],
   "source": [
    "import fasttext.util\n",
    "fasttext.util.download_model('en', if_exists='ignore')  # English\n",
    "ft = fasttext.load_model('cc.en.300.bin')"
   ]
  },
  {
   "cell_type": "code",
   "execution_count": 11,
   "metadata": {},
   "outputs": [],
   "source": [
    "import numpy as np\n",
    "from keras.preprocessing.text import Tokenizer\n",
    "from tensorflow.keras.preprocessing.sequence import pad_sequences\n",
    "\n",
    "# Function to convert a sentence to fastText embeddings\n",
    "def sentence_to_embedding(sentence, model, max_len):\n",
    "    embeddings = []\n",
    "    words = sentence.split()  # Basic tokenization; you can use nltk or spacy for better tokenization\n",
    "    for word in words:\n",
    "        embeddings.append(model.get_word_vector(word))  # Get the FastText embedding of the word\n",
    "    # Padding or truncating the sequence to a fixed length\n",
    "    embeddings = pad_sequences([embeddings], maxlen=max_len, dtype='float32', padding='post', truncating='post')\n",
    "    return embeddings[0]\n"
   ]
  },
  {
   "cell_type": "code",
   "execution_count": 12,
   "metadata": {},
   "outputs": [],
   "source": [
    "X = df.iloc[:, 4]  # Movie plots\n",
    "y = df.iloc[:, 2]  # Genres (labels)\n",
    "\n",
    "# Convert genres to one-hot encoding (if they are not already)\n",
    "from sklearn.preprocessing import LabelBinarizer\n",
    "lb = LabelBinarizer()\n",
    "y = lb.fit_transform(y)\n",
    "\n",
    "# Split the dataset into training and testing sets\n",
    "X_train, X_test, y_train, y_test = train_test_split(X, y, test_size=0.2, random_state=42)"
   ]
  },
  {
   "cell_type": "code",
   "execution_count": 13,
   "metadata": {},
   "outputs": [],
   "source": [
    "max_len = 300  # Maximum length of the sequence\n",
    "\n",
    "# Embed training data\n",
    "X_train_embeddings = np.array([sentence_to_embedding(plot, ft, max_len) for plot in X_train])\n",
    "\n",
    "# Embed testing data\n",
    "X_test_embeddings = np.array([sentence_to_embedding(plot, ft, max_len) for plot in X_test])\n"
   ]
  },
  {
   "cell_type": "code",
   "execution_count": 14,
   "metadata": {},
   "outputs": [
    {
     "name": "stderr",
     "output_type": "stream",
     "text": [
      "2024-10-08 12:00:30.363011: I tensorflow/core/common_runtime/process_util.cc:146] Creating new thread pool with default inter op setting: 2. Tune using inter_op_parallelism_threads for best performance.\n"
     ]
    },
    {
     "name": "stdout",
     "output_type": "stream",
     "text": [
      "Model: \"sequential\"\n",
      "_________________________________________________________________\n",
      " Layer (type)                Output Shape              Param #   \n",
      "=================================================================\n",
      " masking (Masking)           (None, 300, 300)          0         \n",
      "                                                                 \n",
      " lstm (LSTM)                 (None, 128)               219648    \n",
      "                                                                 \n",
      " dropout (Dropout)           (None, 128)               0         \n",
      "                                                                 \n",
      " dense (Dense)               (None, 64)                8256      \n",
      "                                                                 \n",
      " dropout_1 (Dropout)         (None, 64)                0         \n",
      "                                                                 \n",
      " dense_1 (Dense)             (None, 9)                 585       \n",
      "                                                                 \n",
      "=================================================================\n",
      "Total params: 228,489\n",
      "Trainable params: 228,489\n",
      "Non-trainable params: 0\n",
      "_________________________________________________________________\n"
     ]
    },
    {
     "ename": "",
     "evalue": "",
     "output_type": "error",
     "traceback": [
      "\u001b[1;31mThe Kernel crashed while executing code in the current cell or a previous cell. \n",
      "\u001b[1;31mPlease review the code in the cell(s) to identify a possible cause of the failure. \n",
      "\u001b[1;31mClick <a href='https://aka.ms/vscodeJupyterKernelCrash'>here</a> for more info. \n",
      "\u001b[1;31mView Jupyter <a href='command:jupyter.viewOutput'>log</a> for further details."
     ]
    }
   ],
   "source": [
    "from keras.layers import LSTM, Dense, Dropout, Masking\n",
    "\n",
    "# Define the LSTM model\n",
    "model = Sequential()\n",
    "\n",
    "# Masking layer to ignore padding (0 values)\n",
    "model.add(Masking(mask_value=0., input_shape=(max_len, 300)))\n",
    "\n",
    "# LSTM layer\n",
    "model.add(LSTM(units=128, return_sequences=False))\n",
    "\n",
    "# Dropout layer to prevent overfitting\n",
    "model.add(Dropout(0.5))\n",
    "\n",
    "# **Add a hidden Dense layer with ReLU activation**\n",
    "model.add(Dense(64, activation='relu'))  # Hidden layer with 64 units\n",
    "\n",
    "# Dropout layer to reduce overfitting\n",
    "model.add(Dropout(0.5))\n",
    "\n",
    "# Output layer for 9 genres (using softmax for multiclass classification)\n",
    "model.add(Dense(9, activation='softmax'))\n",
    "\n",
    "# Compile the model\n",
    "model.compile(optimizer='adam', loss='categorical_crossentropy', metrics=['accuracy'])\n",
    "\n",
    "# Print model summary\n",
    "model.summary()"
   ]
  },
  {
   "cell_type": "code",
   "execution_count": 10,
   "metadata": {},
   "outputs": [
    {
     "ename": "AttributeError",
     "evalue": "'NoneType' object has no attribute 'fit'",
     "output_type": "error",
     "traceback": [
      "\u001b[0;31m---------------------------------------------------------------------------\u001b[0m",
      "\u001b[0;31mAttributeError\u001b[0m                            Traceback (most recent call last)",
      "Cell \u001b[0;32mIn[10], line 2\u001b[0m\n\u001b[1;32m      1\u001b[0m \u001b[38;5;66;03m# Train the model on the training data\u001b[39;00m\n\u001b[0;32m----> 2\u001b[0m \u001b[43mmodel\u001b[49m\u001b[38;5;241;43m.\u001b[39;49m\u001b[43mfit\u001b[49m(X_train_embeddings, y_train, epochs\u001b[38;5;241m=\u001b[39m\u001b[38;5;241m10\u001b[39m, batch_size\u001b[38;5;241m=\u001b[39m\u001b[38;5;241m32\u001b[39m, validation_split\u001b[38;5;241m=\u001b[39m\u001b[38;5;241m0.2\u001b[39m)\n",
      "\u001b[0;31mAttributeError\u001b[0m: 'NoneType' object has no attribute 'fit'"
     ]
    }
   ],
   "source": [
    "# Train the model on the training data\n",
    "model.fit(X_train_embeddings, y_train, epochs=10, batch_size=32, validation_split=0.2)"
   ]
  },
  {
   "cell_type": "code",
   "execution_count": null,
   "metadata": {},
   "outputs": [],
   "source": [
    "# Evaluate the model on the test data\n",
    "test_loss, test_acc = model.evaluate(X_test_embeddings, y_test)\n",
    "\n",
    "print(f'Test Accuracy: {test_acc}')"
   ]
  },
  {
   "cell_type": "code",
   "execution_count": null,
   "metadata": {},
   "outputs": [],
   "source": [
    "import matplotlib.pyplot as plt\n",
    "import seaborn as sns\n",
    "from sklearn.metrics import confusion_matrix, accuracy_score\n",
    "\n",
    "# Predict genres on the test data\n",
    "y_pred = model.predict(X_test_embeddings)\n",
    "\n",
    "# Convert predictions and true labels back to class labels (from one-hot encoding)\n",
    "y_test_classes = np.argmax(y_test, axis=1)\n",
    "y_pred_classes = np.argmax(y_pred, axis=1)\n",
    "\n",
    "# Confusion matrix\n",
    "conf_matrix = confusion_matrix(y_test_classes, y_pred_classes)\n",
    "\n",
    "# Plot the confusion matrix\n",
    "plt.figure(figsize=(10, 8))\n",
    "sns.heatmap(conf_matrix, annot=True, fmt='d', cmap='Blues', xticklabels=lb.classes_, yticklabels=lb.classes_)\n",
    "plt.title('Confusion Matrix')\n",
    "plt.ylabel('Actual Genre')\n",
    "plt.xlabel('Predicted Genre')\n",
    "plt.show()\n",
    "\n",
    "# Optionally, calculate accuracy\n",
    "print(f'Confusion Matrix Accuracy: {accuracy_score(y_test_classes, y_pred_classes)}')\n"
   ]
  }
 ],
 "metadata": {
  "kernelspec": {
   "display_name": "LN",
   "language": "python",
   "name": "python3"
  },
  "language_info": {
   "codemirror_mode": {
    "name": "ipython",
    "version": 3
   },
   "file_extension": ".py",
   "mimetype": "text/x-python",
   "name": "python",
   "nbconvert_exporter": "python",
   "pygments_lexer": "ipython3",
   "version": "3.10.13"
  }
 },
 "nbformat": 4,
 "nbformat_minor": 2
}
