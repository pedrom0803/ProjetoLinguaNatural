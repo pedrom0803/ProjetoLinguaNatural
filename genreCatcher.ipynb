{
 "cells": [
  {
   "cell_type": "code",
   "execution_count": 1,
   "metadata": {},
   "outputs": [],
   "source": [
    "import pandas as pd"
   ]
  },
  {
   "cell_type": "code",
   "execution_count": 2,
   "metadata": {},
   "outputs": [
    {
     "name": "stdout",
     "output_type": "stream",
     "text": [
      "399\n"
     ]
    }
   ],
   "source": [
    "file_path = 'data/filmesDataset.csv'\n",
    "nossoDataset = pd.read_csv(file_path)\n",
    "file_path = 'data/test_no_labels.txt'  # Replace with your .txt file path\n",
    "storaDataset = pd.read_csv(file_path, delimiter='\\t')\n",
    "print(storaDataset.shape[0])"
   ]
  },
  {
   "cell_type": "code",
   "execution_count": 3,
   "metadata": {},
   "outputs": [
    {
     "name": "stdout",
     "output_type": "stream",
     "text": [
      "Didn't found a match for 12/12/2012\n",
      "Wrote 370 lines\n",
      "Process completed! Data saved in output.txt\n"
     ]
    }
   ],
   "source": [
    "# Open a file to write the results\n",
    "# Titulo Origem Genre Diretor Plot\n",
    "count = 0\n",
    "allowed_genres = [\"drama\", \"comedy\", \"horror\", \"action\", \"romance\", \"western\", \"animation\", \"crime\", \"sci-fi\"]\n",
    "\n",
    "with open('data/top_secret_69.txt', 'w') as f_output:\n",
    "    # Loop through each row in dataset1\n",
    "    for row in storaDataset.iterrows():    \n",
    "        title = str(row[1].array[0])\n",
    "        if len(row[1].array) != 4:\n",
    "            f_output.write(f\"ERROR ON MOVIE {title}\\n\")\n",
    "            \n",
    "        # Search for the title in dataset2, column 1\n",
    "        matching_row = nossoDataset[nossoDataset[\"Title\"] == title]\n",
    "        \n",
    "        if not matching_row.empty:\n",
    "            \n",
    "            plot = matching_row.iloc[0, 7]  # Column 7\n",
    "            origin = matching_row.iloc[0, 2] # Column 2\n",
    "            genre = matching_row.iloc[0, 5]  # Column 5\n",
    "            director = matching_row.iloc[0, 3]  # Column 3 \n",
    "            \n",
    "\n",
    "            plot = str(plot).strip().replace('\\n', ' ').replace('\\r', '')\n",
    "            genre = str(genre).strip().replace('\\n', ' ').replace('\\r', '').replace(\" \",\"\")\n",
    "\n",
    "            if(genre == \"Unknown\" or genre == \"unknown\"):\n",
    "                print(f\"Unknown movie with the title {title}\")\n",
    "            \n",
    "            if(genre not in allowed_genres):\n",
    "                continue\n",
    "\n",
    "            \n",
    "            # Write the title, column 7 and column 5 values to the output file\n",
    "            f_output.write(f\"{title}\\t{origin}\\t{genre}\\t{plot}\\n\")\n",
    "            count += 1\n",
    "        else:\n",
    "            print(f\"Didn't found a match for {title}\")\n",
    "\n",
    "print(f\"Wrote {count} lines\")\n",
    "print(\"Process completed! Data saved in output.txt\")\n"
   ]
  },
  {
   "cell_type": "code",
   "execution_count": 4,
   "metadata": {},
   "outputs": [
    {
     "name": "stdout",
     "output_type": "stream",
     "text": [
      "FinalDataset size (369, 4)\n"
     ]
    }
   ],
   "source": [
    "#verify if all rows with 2 colls\n",
    "file_path = 'data/top_secret_69.txt'\n",
    "finalDataset = pd.read_csv(file_path, delimiter='\\t')\n",
    "print(f\"FinalDataset size {finalDataset.shape}\")\n",
    "\n",
    "for row in finalDataset.iterrows():\n",
    "    \n",
    "    if len(row[1].array) != 4:\n",
    "        print(f\"Mau formato on {row[1].array}\")\n",
    "        "
   ]
  }
 ],
 "metadata": {
  "kernelspec": {
   "display_name": "base",
   "language": "python",
   "name": "python3"
  },
  "language_info": {
   "codemirror_mode": {
    "name": "ipython",
    "version": 3
   },
   "file_extension": ".py",
   "mimetype": "text/x-python",
   "name": "python",
   "nbconvert_exporter": "python",
   "pygments_lexer": "ipython3",
   "version": "3.10.13"
  }
 },
 "nbformat": 4,
 "nbformat_minor": 2
}
