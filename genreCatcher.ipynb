{
 "cells": [
  {
   "cell_type": "code",
   "execution_count": 155,
   "metadata": {},
   "outputs": [],
   "source": [
    "import pandas as pd"
   ]
  },
  {
   "cell_type": "code",
   "execution_count": 156,
   "metadata": {},
   "outputs": [],
   "source": [
    "file_path = 'data/filmesDataset.csv'\n",
    "nossoDataset = pd.read_csv(file_path)\n",
    "file_path = 'data/test_no_labels.txt'  # Replace with your .txt file path\n",
    "storaDataset = pd.read_csv(file_path, delimiter='\\t')"
   ]
  },
  {
   "cell_type": "code",
   "execution_count": 157,
   "metadata": {},
   "outputs": [
    {
     "name": "stdout",
     "output_type": "stream",
     "text": [
      "Process completed! Data saved in output.txt\n"
     ]
    }
   ],
   "source": [
    "# Open a file to write the results\n",
    "with open('output.txt', 'w') as f_output:\n",
    "    # Loop through each row in dataset1\n",
    "    for row in storaDataset.iterrows():    \n",
    "        title = str(row[1].array[0])\n",
    "        if len(row[1].array) != 4:\n",
    "            f_output.write(f\"ERROR ON MOVIE {title}\\n\")\n",
    "            \n",
    "        # Search for the title in dataset2, column 1\n",
    "        matching_row = nossoDataset[nossoDataset[\"Title\"] == title]\n",
    "        \n",
    "        if not matching_row.empty:\n",
    "            # Get the values from column 7 and column 5\n",
    "            col7_value = matching_row.iloc[0, 7]  # Column 7\n",
    "            col5_value = matching_row.iloc[0, 5]  # Column 5\n",
    "\n",
    "            col7_value = str(col7_value).replace('\\n', ' ').replace('\\r', '')\n",
    "            col5_value = str(col5_value).replace('\\n', ' ').replace('\\r', '')\n",
    "            \n",
    "            # Write the title, column 7 and column 5 values to the output file\n",
    "            f_output.write(f\"{col7_value}\\t{col5_value}\\n\")\n",
    "\n",
    "print(\"Process completed! Data saved in output.txt\")\n"
   ]
  },
  {
   "cell_type": "code",
   "execution_count": 158,
   "metadata": {},
   "outputs": [
    {
     "name": "stdout",
     "output_type": "stream",
     "text": [
      "0\n"
     ]
    }
   ],
   "source": [
    "#verify if all rows with 2 colls\n",
    "file_path = 'data/top_secret_69.txt'\n",
    "finalDataset = pd.read_csv(file_path, delimiter='\\t')\n",
    "\n",
    "count = 0\n",
    "for row in finalDataset.iterrows():\n",
    "    if len(row[1].array) != 2:\n",
    "        count = count + 1\n",
    "        print(\"ERROWWW\")\n",
    "\n",
    "print(count)"
   ]
  }
 ],
 "metadata": {
  "kernelspec": {
   "display_name": "base",
   "language": "python",
   "name": "python3"
  },
  "language_info": {
   "codemirror_mode": {
    "name": "ipython",
    "version": 3
   },
   "file_extension": ".py",
   "mimetype": "text/x-python",
   "name": "python",
   "nbconvert_exporter": "python",
   "pygments_lexer": "ipython3",
   "version": "3.12.4"
  }
 },
 "nbformat": 4,
 "nbformat_minor": 2
}
