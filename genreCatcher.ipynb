{
 "cells": [
  {
   "cell_type": "code",
   "execution_count": 1,
   "metadata": {},
   "outputs": [],
   "source": [
    "import pandas as pd"
   ]
  },
  {
   "cell_type": "code",
   "execution_count": 21,
   "metadata": {},
   "outputs": [
    {
     "name": "stdout",
     "output_type": "stream",
     "text": [
      "400\n",
      "                                               title       Country  \\\n",
      "0                                       Bava Nachadu        Telugu   \n",
      "1                                              Quick  South_Korean   \n",
      "2  Doraemon: Nobita's Great Battle of the Mermaid...      Japanese   \n",
      "3                                Little School Mouse      American   \n",
      "4                                 The Little Damozel       British   \n",
      "\n",
      "           Author                                               plot  \n",
      "0    KS Ravikumar  Ajay (Nagarjuna Akkineni) is an adman (directo...  \n",
      "1         Unknown  Seoul, 2004. A group of bikers are joy-riding ...  \n",
      "2         Unknown  The film opens with a sunken ship, in which a ...  \n",
      "3   Hanna-Barbera  Jerry decides to school Tuffy in the basics of...  \n",
      "4  Herbert Wilcox  Gambler Recky Poole (James Rennie) accepts a b...  \n"
     ]
    }
   ],
   "source": [
    "import pandas as pd\n",
    "\n",
    "# First CSV file with correct column reading\n",
    "file_path_filmes = 'data/filmesDataset.csv'\n",
    "nossoDataset = pd.read_csv(file_path_filmes)\n",
    "\n",
    "# Reading the second file with custom column names and no header\n",
    "file_path_stora = 'data/test_no_labels.txt'\n",
    "storaDataset = pd.read_csv(file_path_stora, delimiter='\\t', names=['title','Country','Author', 'plot'], header=None)\n",
    "\n",
    "# Check the shape of storaDataset\n",
    "print(storaDataset.shape[0])\n",
    "print(storaDataset.head())"
   ]
  },
  {
   "cell_type": "code",
   "execution_count": 22,
   "metadata": {},
   "outputs": [
    {
     "name": "stdout",
     "output_type": "stream",
     "text": [
      "anime\n",
      "animated\n",
      "Didn't found a match for 12/12/2012\n",
      "animated\n",
      "animated\n",
      "animated\n",
      "anime\n",
      "animated\n",
      "anime\n",
      "anime\n",
      "animated\n",
      "anime\n",
      "animated\n",
      "animated\n",
      "anime\n",
      "coldwar\n",
      "sciencefiction\n",
      "animated\n",
      "historical\n",
      "anime\n",
      "anime\n",
      "crime,comedy\n",
      "anime\n",
      "comedy-drama,teen\n",
      "anime\n",
      "anime\n",
      "animated\n",
      "melodrama\n",
      "anime\n",
      "Wrote 399 lines\n",
      "Process completed! Data saved in output.txt\n"
     ]
    }
   ],
   "source": [
    "# Open a file to write the results\n",
    "# Titulo Origem Genre Diretor Plot\n",
    "count = 0\n",
    "allowed_genres = [\"drama\", \"comedy\", \"horror\", \"action\", \"romance\", \"western\", \"animation\", \"crime\", \"sci-fi\"]\n",
    "\n",
    "with open('data/top_secret_69.txt', 'w') as f_output:\n",
    "    # Loop through each row in dataset1\n",
    "    for row in storaDataset.iterrows():    \n",
    "        title = str(row[1].array[0])\n",
    "        if len(row[1].array) != 4:\n",
    "            f_output.write(f\"ERROR ON MOVIE {title}\\n\")\n",
    "            \n",
    "        # Search for the title in dataset2, column 1\n",
    "        matching_row = nossoDataset[nossoDataset[\"Title\"] == title]\n",
    "        \n",
    "        if not matching_row.empty:\n",
    "            # Get the values from column 7 and column 5\n",
    "            plot = matching_row.iloc[0, 7]  # Column 7\n",
    "            origin = matching_row.iloc[0, 2] # Column 2\n",
    "            genre = matching_row.iloc[0, 5]  # Column 5\n",
    "            director = matching_row.iloc[0, 3]  # Column 3 \n",
    "            \n",
    "\n",
    "            plot = str(plot).strip().replace('\\n', ' ').replace('\\r', '')\n",
    "            genre = str(genre).strip().replace('\\n', ' ').replace('\\r', '').replace(\" \",\"\")\n",
    "\n",
    "            if(genre == \"Unknown\" or genre == \"unknown\"):\n",
    "                print(f\"Unknown movie with the title {title}\")\n",
    "            \n",
    "            if(genre not in allowed_genres):\n",
    "                continue\n",
    "\n",
    "            \n",
    "            # Write the title, column 7 and column 5 values to the output file\n",
    "            f_output.write(f\"{col5_value}\\t{col7_value}\\n\")\n",
    "            count += 1\n",
    "        else:\n",
    "            print(f\"Didn't found a match for {title}\")\n",
    "\n",
    "print(f\"Wrote {count} lines\")\n",
    "print(\"Process completed! Data saved in output.txt\")\n"
   ]
  },
  {
   "cell_type": "code",
   "execution_count": 23,
   "metadata": {},
   "outputs": [
    {
     "name": "stdout",
     "output_type": "stream",
     "text": [
      "FinalDataset size (398, 2)\n"
     ]
    }
   ],
   "source": [
    "#verify if all rows with 2 colls\n",
    "file_path = 'data/top_secret_69.txt'\n",
    "finalDataset = pd.read_csv(file_path, delimiter='\\t')\n",
    "print(f\"FinalDataset size {finalDataset.shape}\")\n",
    "\n",
    "for row in finalDataset.iterrows():\n",
    "    if len(row[1].array) != 2:\n",
    "        print(f\"Mau formato on {row[1].array}\")\n",
    "        "
   ]
  }
 ],
 "metadata": {
  "kernelspec": {
   "display_name": "base",
   "language": "python",
   "name": "python3"
  },
  "language_info": {
   "codemirror_mode": {
    "name": "ipython",
    "version": 3
   },
   "file_extension": ".py",
   "mimetype": "text/x-python",
   "name": "python",
   "nbconvert_exporter": "python",
   "pygments_lexer": "ipython3",
   "version": "3.10.13"
  }
 },
 "nbformat": 4,
 "nbformat_minor": 2
}
