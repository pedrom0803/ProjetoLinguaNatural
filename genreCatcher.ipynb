{
 "cells": [
  {
   "cell_type": "code",
   "execution_count": 38,
   "metadata": {},
   "outputs": [],
   "source": [
    "import pandas as pd"
   ]
  },
  {
   "cell_type": "code",
   "execution_count": 39,
   "metadata": {},
   "outputs": [
    {
     "name": "stdout",
     "output_type": "stream",
     "text": [
      "399\n"
     ]
    }
   ],
   "source": [
    "file_path = 'data/filmesDataset.csv'\n",
    "nossoDataset = pd.read_csv(file_path)\n",
    "file_path = 'data/test_no_labels.txt'  # Replace with your .txt file path\n",
    "storaDataset = pd.read_csv(file_path, delimiter='\\t')\n",
    "print(storaDataset.shape[0])"
   ]
  },
  {
   "cell_type": "code",
   "execution_count": 40,
   "metadata": {},
   "outputs": [
    {
     "name": "stdout",
     "output_type": "stream",
     "text": [
      "Didn't found a match for 12/12/2012\n",
      "Wrote 398 lines\n",
      "Process completed! Data saved in output.txt\n"
     ]
    }
   ],
   "source": [
    "# Open a file to write the results\n",
    "count = 0\n",
    "allowed_genres = [\"drama\", \"comedy\", \"horror\", \"action\", \"romance\", \"western\", \"animation\", \"crime\", \"sci-fi\"]\n",
    "\n",
    "with open('data/top_secret_69.txt', 'w') as f_output:\n",
    "    # Loop through each row in dataset1\n",
    "    for row in storaDataset.iterrows():    \n",
    "        title = str(row[1].array[0])\n",
    "        if len(row[1].array) != 4:\n",
    "            f_output.write(f\"ERROR ON MOVIE {title}\\n\")\n",
    "            \n",
    "        # Search for the title in dataset2, column 1\n",
    "        matching_row = nossoDataset[nossoDataset[\"Title\"] == title]\n",
    "        \n",
    "        if not matching_row.empty:\n",
    "            # Get the values from column 7 and column 5\n",
    "            col7_value = matching_row.iloc[0, 7]  # Column 7\n",
    "            col5_value = matching_row.iloc[0, 5]  # Column 5\n",
    "\n",
    "            col7_value = str(col7_value).strip().replace('\\n', ' ').replace('\\r', '')\n",
    "            col5_value = str(col5_value).strip().replace('\\n', ' ').replace('\\r', '').replace(\" \",\"\")\n",
    "\n",
    "            if(col5_value == \"Unknown\" or col5_value == \"unknown\"):\n",
    "                print(f\"Unknown movie with the title {title}\")\n",
    "            \n",
    "            if(col5_value not in allowed_genres):\n",
    "                print(col5_value)\n",
    "                if(col5_value == \"anime\" or col5_value == \"animated\"):\n",
    "                    col5_value = \"animation\"\n",
    "\n",
    "            \n",
    "            # Write the title, column 7 and column 5 values to the output file\n",
    "            f_output.write(f\"{col5_value} \\t {col7_value}\\n\")\n",
    "            count += 1\n",
    "        else:\n",
    "            print(f\"Didn't found a match for {title}\")\n",
    "\n",
    "print(f\"Wrote {count} lines\")\n",
    "print(\"Process completed! Data saved in output.txt\")\n"
   ]
  },
  {
   "cell_type": "code",
   "execution_count": 41,
   "metadata": {},
   "outputs": [
    {
     "name": "stdout",
     "output_type": "stream",
     "text": [
      "FinalDataset size (397, 2)\n",
      "anime \n",
      "animated \n",
      "animated \n",
      "animated \n",
      "animated \n",
      "anime \n",
      "animated \n",
      "anime \n",
      "anime \n",
      "animated \n",
      "anime \n",
      "animated \n",
      "animated \n",
      "anime \n",
      "cold war \n",
      "science fiction \n",
      "animated \n",
      "historical \n",
      "anime \n",
      "anime \n",
      "crime, comedy \n",
      "anime \n",
      "comedy-drama, teen \n",
      "anime \n",
      "anime \n",
      "animated \n",
      "melodrama \n",
      "anime \n"
     ]
    }
   ],
   "source": [
    "#verify if all rows with 2 colls\n",
    "file_path = 'data/top_secret_69.txt'\n",
    "finalDataset = pd.read_csv(file_path, delimiter='\\t')\n",
    "print(f\"FinalDataset size {finalDataset.shape}\")\n",
    "\n",
    "for row in finalDataset.iterrows():\n",
    "    \n",
    "    if len(row[1].array) != 2:\n",
    "        print(f\"Mau formato on {row[1].array}\")\n",
    "\n",
    "\n",
    "\n",
    "\n"
   ]
  }
 ],
 "metadata": {
  "kernelspec": {
   "display_name": "base",
   "language": "python",
   "name": "python3"
  },
  "language_info": {
   "codemirror_mode": {
    "name": "ipython",
    "version": 3
   },
   "file_extension": ".py",
   "mimetype": "text/x-python",
   "name": "python",
   "nbconvert_exporter": "python",
   "pygments_lexer": "ipython3",
   "version": "3.12.4"
  }
 },
 "nbformat": 4,
 "nbformat_minor": 2
}
